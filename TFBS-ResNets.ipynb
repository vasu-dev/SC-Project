{
 "cells": [
  {
   "cell_type": "markdown",
   "metadata": {},
   "source": [
    "### TFBS Classification - ResNET"
   ]
  },
  {
   "cell_type": "markdown",
   "metadata": {},
   "source": [
    "Papers : https://arxiv.org/abs/1512.03385 (architecture), https://arxiv.org/abs/1605.01133 (data)"
   ]
  },
  {
   "cell_type": "code",
   "execution_count": 9,
   "metadata": {},
   "outputs": [],
   "source": [
    "import os\n",
    "import numpy as np\n",
    "from keras.models import Sequential,Model\n",
    "from keras.layers import Dropout ,Activation,AveragePooling2D, normalization,Convolution2D\n",
    "from keras.layers import Dense, Flatten, Reshape, Input\n",
    "from keras.layers.merge import add\n",
    "from keras import optimizers\n",
    "from keras.utils import np_utils\n",
    "from matplotlib import pyplot as plt\n",
    "%matplotlib inline"
   ]
  },
  {
   "cell_type": "code",
   "execution_count": 2,
   "metadata": {},
   "outputs": [],
   "source": [
    "X = np.load('X_TFBS.npy')\n",
    "y = np.load('Y_TFBS.npy')\n",
    "Y = np_utils.to_categorical(y)"
   ]
  },
  {
   "cell_type": "code",
   "execution_count": 3,
   "metadata": {},
   "outputs": [
    {
     "name": "stdout",
     "output_type": "stream",
     "text": [
      "(17052, 101, 4) (17052, 2)\n"
     ]
    }
   ],
   "source": [
    "print X.shape, Y.shape"
   ]
  },
  {
   "cell_type": "code",
   "execution_count": 4,
   "metadata": {},
   "outputs": [
    {
     "name": "stdout",
     "output_type": "stream",
     "text": [
      "____________________________________________________________________________________________________\n",
      "Layer (type)                     Output Shape          Param #     Connected to                     \n",
      "====================================================================================================\n",
      "input_1 (InputLayer)             (None, 101, 1, 4)     0                                            \n",
      "____________________________________________________________________________________________________\n",
      "conv2d_1 (Conv2D)                (None, 97, 1, 128)    2688        input_1[0][0]                    \n",
      "____________________________________________________________________________________________________\n",
      "activation_1 (Activation)        (None, 97, 1, 128)    0           conv2d_1[0][0]                   \n",
      "____________________________________________________________________________________________________\n",
      "conv2d_2 (Conv2D)                (None, 97, 1, 128)    82048       activation_1[0][0]               \n",
      "____________________________________________________________________________________________________\n",
      "activation_2 (Activation)        (None, 97, 1, 128)    0           conv2d_2[0][0]                   \n",
      "____________________________________________________________________________________________________\n",
      "dropout_1 (Dropout)              (None, 97, 1, 128)    0           activation_2[0][0]               \n",
      "____________________________________________________________________________________________________\n",
      "conv2d_3 (Conv2D)                (None, 97, 1, 128)    82048       dropout_1[0][0]                  \n",
      "____________________________________________________________________________________________________\n",
      "add_1 (Add)                      (None, 97, 1, 128)    0           conv2d_1[0][0]                   \n",
      "                                                                   conv2d_3[0][0]                   \n",
      "____________________________________________________________________________________________________\n",
      "activation_3 (Activation)        (None, 97, 1, 128)    0           add_1[0][0]                      \n",
      "____________________________________________________________________________________________________\n",
      "conv2d_4 (Conv2D)                (None, 97, 1, 128)    82048       activation_3[0][0]               \n",
      "____________________________________________________________________________________________________\n",
      "activation_4 (Activation)        (None, 97, 1, 128)    0           conv2d_4[0][0]                   \n",
      "____________________________________________________________________________________________________\n",
      "dropout_2 (Dropout)              (None, 97, 1, 128)    0           activation_4[0][0]               \n",
      "____________________________________________________________________________________________________\n",
      "conv2d_5 (Conv2D)                (None, 97, 1, 128)    82048       dropout_2[0][0]                  \n",
      "____________________________________________________________________________________________________\n",
      "add_2 (Add)                      (None, 97, 1, 128)    0           add_1[0][0]                      \n",
      "                                                                   conv2d_5[0][0]                   \n",
      "____________________________________________________________________________________________________\n",
      "activation_5 (Activation)        (None, 97, 1, 128)    0           add_2[0][0]                      \n",
      "____________________________________________________________________________________________________\n",
      "average_pooling2d_1 (AveragePool (None, 1, 1, 128)     0           activation_5[0][0]               \n",
      "____________________________________________________________________________________________________\n",
      "flatten_1 (Flatten)              (None, 128)           0           average_pooling2d_1[0][0]        \n",
      "____________________________________________________________________________________________________\n",
      "dense_1 (Dense)                  (None, 32)            4128        flatten_1[0][0]                  \n",
      "____________________________________________________________________________________________________\n",
      "activation_6 (Activation)        (None, 32)            0           dense_1[0][0]                    \n",
      "____________________________________________________________________________________________________\n",
      "dense_2 (Dense)                  (None, 2)             66          activation_6[0][0]               \n",
      "____________________________________________________________________________________________________\n",
      "activation_7 (Activation)        (None, 2)             0           dense_2[0][0]                    \n",
      "====================================================================================================\n",
      "Total params: 335,074\n",
      "Trainable params: 335,074\n",
      "Non-trainable params: 0\n",
      "____________________________________________________________________________________________________\n"
     ]
    }
   ],
   "source": [
    "inp = Input(shape=(101,1,4))\n",
    "\n",
    "x1 = Convolution2D( 128,(5,1))(inp)\n",
    "\n",
    "r1_a1 = Activation('relu')(x1)\n",
    "r1_w1 = Convolution2D(128,( 5,1),padding='same')(r1_a1)\n",
    "r1_a2 = Activation('relu')(r1_w1)\n",
    "r1_d1 = Dropout(0.2)(r1_a2)\n",
    "r1_w2 = Convolution2D(128,( 5,1),padding='same')(r1_d1)\n",
    "x2 = add([x1, r1_w2])\n",
    "\n",
    "r2_a1 = Activation('relu')(x2)\n",
    "r2_w1 = Convolution2D(128,( 5,1),padding='same')(r2_a1)\n",
    "r2_a2 = Activation('relu')(r2_w1)\n",
    "r2_d1 = Dropout(0.2)(r2_a2)\n",
    "r2_w2 = Convolution2D(128,( 5,1),padding='same')(r2_d1)\n",
    "x3 = add([x2, r2_w2])\n",
    "\n",
    "acti = Activation('relu')(x3)\n",
    "av_pool = AveragePooling2D((97,1))((acti))\n",
    "f1 = Flatten()(av_pool)\n",
    "fc1 = Dense(32)(f1)\n",
    "a1 = Activation('relu')(fc1)\n",
    "fc2 = Dense(2)(a1)\n",
    "a2 = Activation('softmax')(fc2)\n",
    "\n",
    "model = Model(outputs=a2, inputs=inp)\n",
    "model.summary()"
   ]
  },
  {
   "cell_type": "code",
   "execution_count": 5,
   "metadata": {},
   "outputs": [],
   "source": [
    "adam = optimizers.Adam(lr=0.001, beta_1=0.9, beta_2=0.999, epsilon=1e-08, decay=0.0003)        \n",
    "model.compile(loss='categorical_crossentropy', optimizer=adam, metrics=['accuracy'])"
   ]
  },
  {
   "cell_type": "code",
   "execution_count": 6,
   "metadata": {},
   "outputs": [
    {
     "name": "stdout",
     "output_type": "stream",
     "text": [
      "Train on 13641 samples, validate on 3411 samples\n",
      "Epoch 1/20\n",
      "13641/13641 [==============================] - 38s - loss: 0.6937 - acc: 0.5125 - val_loss: 0.6927 - val_acc: 0.5899\n",
      "Epoch 2/20\n",
      "13641/13641 [==============================] - 28s - loss: 0.6887 - acc: 0.5280 - val_loss: 0.6963 - val_acc: 0.5186\n",
      "Epoch 3/20\n",
      "13641/13641 [==============================] - 25s - loss: 0.6444 - acc: 0.6295 - val_loss: 0.6139 - val_acc: 0.6711\n",
      "Epoch 4/20\n",
      "13641/13641 [==============================] - 25s - loss: 0.6025 - acc: 0.6782 - val_loss: 0.5978 - val_acc: 0.6804\n",
      "Epoch 5/20\n",
      "13641/13641 [==============================] - 26s - loss: 0.5635 - acc: 0.7107 - val_loss: 0.5867 - val_acc: 0.6825\n",
      "Epoch 6/20\n",
      "13641/13641 [==============================] - 25s - loss: 0.5247 - acc: 0.7387 - val_loss: 0.5277 - val_acc: 0.7514\n",
      "Epoch 7/20\n",
      "13641/13641 [==============================] - 25s - loss: 0.5001 - acc: 0.7547 - val_loss: 0.5067 - val_acc: 0.7587\n",
      "Epoch 8/20\n",
      "13641/13641 [==============================] - 25s - loss: 0.4449 - acc: 0.7900 - val_loss: 0.5261 - val_acc: 0.7444\n",
      "Epoch 9/20\n",
      "13641/13641 [==============================] - 25s - loss: 0.4255 - acc: 0.8007 - val_loss: 0.5310 - val_acc: 0.7505\n",
      "Epoch 10/20\n",
      "13641/13641 [==============================] - 26s - loss: 0.4274 - acc: 0.8043 - val_loss: 0.4818 - val_acc: 0.7719\n",
      "Epoch 11/20\n",
      "13641/13641 [==============================] - 33s - loss: 0.4032 - acc: 0.8170 - val_loss: 0.4608 - val_acc: 0.7828\n",
      "Epoch 12/20\n",
      "13641/13641 [==============================] - 28s - loss: 0.4035 - acc: 0.8140 - val_loss: 0.4717 - val_acc: 0.7819\n",
      "Epoch 13/20\n",
      "13641/13641 [==============================] - 26s - loss: 0.3731 - acc: 0.8337 - val_loss: 0.4557 - val_acc: 0.7892\n",
      "Epoch 14/20\n",
      "13641/13641 [==============================] - 27s - loss: 0.3713 - acc: 0.8353 - val_loss: 0.5461 - val_acc: 0.7303\n",
      "Epoch 15/20\n",
      "13641/13641 [==============================] - 29s - loss: 0.3709 - acc: 0.8358 - val_loss: 0.4917 - val_acc: 0.7702\n",
      "Epoch 16/20\n",
      "13641/13641 [==============================] - 28s - loss: 0.3573 - acc: 0.8433 - val_loss: 0.4628 - val_acc: 0.7839\n",
      "Epoch 17/20\n",
      "13641/13641 [==============================] - 30s - loss: 0.3451 - acc: 0.8482 - val_loss: 0.5027 - val_acc: 0.7707\n",
      "Epoch 18/20\n",
      "13641/13641 [==============================] - 29s - loss: 0.3432 - acc: 0.8466 - val_loss: 0.4996 - val_acc: 0.7661\n",
      "Epoch 19/20\n",
      "13641/13641 [==============================] - 30s - loss: 0.3332 - acc: 0.8518 - val_loss: 0.4712 - val_acc: 0.7916\n",
      "Epoch 20/20\n",
      "13641/13641 [==============================] - 29s - loss: 0.3404 - acc: 0.8524 - val_loss: 0.4543 - val_acc: 0.7883\n"
     ]
    }
   ],
   "source": [
    "X = X.reshape(X.shape[0], 101, 1, 4)\n",
    "hist = model.fit(X, Y,epochs = 20,shuffle=True,batch_size=256,validation_split=0.20)"
   ]
  },
  {
   "cell_type": "code",
   "execution_count": 10,
   "metadata": {},
   "outputs": [
    {
     "data": {
      "text/plain": [
       "[<matplotlib.lines.Line2D at 0x7fd48860ac10>]"
      ]
     },
     "execution_count": 10,
     "metadata": {},
     "output_type": "execute_result"
    },
    {
     "data": {
      "image/png": "[encoded data removed]",
      "text/plain": [
       "<matplotlib.figure.Figure at 0x7fd48865a790>"
      ]
     },
     "metadata": {},
     "output_type": "display_data"
    }
   ],
   "source": [
    "plt.plot(hist.history['acc'],'g')\n",
    "plt.plot(hist.history['val_acc'],'b')\n",
    "plt.plot(hist.history['loss'],'r')\n",
    "plt.plot(hist.history['val_loss'],'black')"
   ]
  }
 ],
 "metadata": {
  "kernelspec": {
   "display_name": "Python 2",
   "language": "python",
   "name": "python2"
  },
  "language_info": {
   "codemirror_mode": {
    "name": "ipython",
    "version": 2
   },
   "file_extension": ".py",
   "mimetype": "text/x-python",
   "name": "python",
   "nbconvert_exporter": "python",
   "pygments_lexer": "ipython2",
   "version": "2.7.12"
  }
 },
 "nbformat": 4,
 "nbformat_minor": 2
}
