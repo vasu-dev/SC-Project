{
 "cells": [
  {
   "cell_type": "markdown",
   "metadata": {},
   "source": [
    "### TFBS Classification - CNN"
   ]
  },
  {
   "cell_type": "markdown",
   "metadata": {},
   "source": [
    " https://arxiv.org/abs/1605.01133 (data+architecture)"
   ]
  },
  {
   "cell_type": "code",
   "execution_count": 8,
   "metadata": {},
   "outputs": [],
   "source": [
    "import os\n",
    "import numpy as np\n",
    "from keras.models import Sequential\n",
    "from keras.layers import MaxPooling2D, Dropout, Dense, Flatten, Reshape, Input, Convolution2D ,Activation, MaxPool1D\n",
    "from keras.utils import np_utils\n",
    "from matplotlib import pyplot as plt\n",
    "%matplotlib inline"
   ]
  },
  {
   "cell_type": "code",
   "execution_count": 2,
   "metadata": {},
   "outputs": [],
   "source": [
    "X = np.load('X_TFBS.npy')\n",
    "y = np.load('Y_TFBS.npy')\n",
    "Y = np_utils.to_categorical(y)"
   ]
  },
  {
   "cell_type": "code",
   "execution_count": 3,
   "metadata": {},
   "outputs": [
    {
     "name": "stdout",
     "output_type": "stream",
     "text": [
      "(17052, 101, 4) (17052, 2)\n"
     ]
    }
   ],
   "source": [
    "print X.shape, Y.shape"
   ]
  },
  {
   "cell_type": "code",
   "execution_count": 4,
   "metadata": {},
   "outputs": [
    {
     "name": "stdout",
     "output_type": "stream",
     "text": [
      "_________________________________________________________________\n",
      "Layer (type)                 Output Shape              Param #   \n",
      "=================================================================\n",
      "conv2d_1 (Conv2D)            (None, 97, 1, 128)        2688      \n",
      "_________________________________________________________________\n",
      "activation_1 (Activation)    (None, 97, 1, 128)        0         \n",
      "_________________________________________________________________\n",
      "max_pooling2d_1 (MaxPooling2 (None, 96, 1, 128)        0         \n",
      "_________________________________________________________________\n",
      "conv2d_2 (Conv2D)            (None, 92, 1, 128)        82048     \n",
      "_________________________________________________________________\n",
      "activation_2 (Activation)    (None, 92, 1, 128)        0         \n",
      "_________________________________________________________________\n",
      "max_pooling2d_2 (MaxPooling2 (None, 91, 1, 128)        0         \n",
      "_________________________________________________________________\n",
      "dropout_1 (Dropout)          (None, 91, 1, 128)        0         \n",
      "_________________________________________________________________\n",
      "conv2d_3 (Conv2D)            (None, 87, 1, 128)        82048     \n",
      "_________________________________________________________________\n",
      "activation_3 (Activation)    (None, 87, 1, 128)        0         \n",
      "_________________________________________________________________\n",
      "max_pooling2d_3 (MaxPooling2 (None, 86, 1, 128)        0         \n",
      "_________________________________________________________________\n",
      "conv2d_4 (Conv2D)            (None, 82, 1, 128)        82048     \n",
      "_________________________________________________________________\n",
      "activation_4 (Activation)    (None, 82, 1, 128)        0         \n",
      "_________________________________________________________________\n",
      "max_pooling2d_4 (MaxPooling2 (None, 1, 1, 128)         0         \n",
      "_________________________________________________________________\n",
      "dropout_2 (Dropout)          (None, 1, 1, 128)         0         \n",
      "_________________________________________________________________\n",
      "flatten_1 (Flatten)          (None, 128)               0         \n",
      "_________________________________________________________________\n",
      "dense_1 (Dense)              (None, 32)                4128      \n",
      "_________________________________________________________________\n",
      "activation_5 (Activation)    (None, 32)                0         \n",
      "_________________________________________________________________\n",
      "dropout_3 (Dropout)          (None, 32)                0         \n",
      "_________________________________________________________________\n",
      "dense_2 (Dense)              (None, 2)                 66        \n",
      "_________________________________________________________________\n",
      "activation_6 (Activation)    (None, 2)                 0         \n",
      "=================================================================\n",
      "Total params: 253,026\n",
      "Trainable params: 253,026\n",
      "Non-trainable params: 0\n",
      "_________________________________________________________________\n"
     ]
    }
   ],
   "source": [
    "model = Sequential()\n",
    "\n",
    "model.add(Convolution2D( 128,(5,1),  data_format='channels_last',  input_shape=(101,1,4) ))\n",
    "model.add(Activation('relu'))\n",
    "model.add(MaxPooling2D( (2,1) , strides=1, data_format='channels_last' ))\n",
    "model.add(Convolution2D( 128,(5,1), data_format='channels_last' ))\n",
    "model.add(Activation('relu'))\n",
    "model.add(MaxPooling2D( (2,1) , strides=1, data_format='channels_last'))\n",
    "model.add(Dropout(0.2))\n",
    "model.add(Convolution2D( 128,(5,1),  data_format='channels_last' ))\n",
    "model.add(Activation('relu'))\n",
    "model.add(MaxPooling2D( (2,1) ,strides=1, data_format='channels_last' ))\n",
    "model.add(Convolution2D( 128,(5,1), data_format='channels_last' ))\n",
    "model.add(Activation('relu'))\n",
    "model.add(MaxPooling2D( (82,1), strides=1, data_format='channels_last'))\n",
    "model.add(Dropout(0.2))\n",
    "model.add(Flatten())\n",
    "model.add(Dense(32))\n",
    "model.add(Activation('relu'))\n",
    "model.add(Dropout(0.2))\n",
    "model.add(Dense(2))\n",
    "model.add(Activation('softmax'))\n",
    "model.summary()"
   ]
  },
  {
   "cell_type": "code",
   "execution_count": 5,
   "metadata": {},
   "outputs": [],
   "source": [
    "model.compile(loss='categorical_crossentropy', optimizer='adam', metrics=['accuracy'])"
   ]
  },
  {
   "cell_type": "code",
   "execution_count": 6,
   "metadata": {},
   "outputs": [
    {
     "name": "stdout",
     "output_type": "stream",
     "text": [
      "Train on 13641 samples, validate on 3411 samples\n",
      "Epoch 1/20\n",
      "13641/13641 [==============================] - 37s - loss: 0.6948 - acc: 0.5015 - val_loss: 0.6928 - val_acc: 0.5013\n",
      "Epoch 2/20\n",
      "13641/13641 [==============================] - 25s - loss: 0.6916 - acc: 0.5198 - val_loss: 0.6888 - val_acc: 0.5207\n",
      "Epoch 3/20\n",
      "13641/13641 [==============================] - 22s - loss: 0.6810 - acc: 0.5648 - val_loss: 0.6617 - val_acc: 0.6113\n",
      "Epoch 4/20\n",
      "13641/13641 [==============================] - 22s - loss: 0.6414 - acc: 0.6305 - val_loss: 0.6150 - val_acc: 0.6541\n",
      "Epoch 5/20\n",
      "13641/13641 [==============================] - 22s - loss: 0.5735 - acc: 0.6967 - val_loss: 0.5659 - val_acc: 0.7007\n",
      "Epoch 6/20\n",
      "13641/13641 [==============================] - 22s - loss: 0.5395 - acc: 0.7322 - val_loss: 0.5553 - val_acc: 0.7142\n",
      "Epoch 7/20\n",
      "13641/13641 [==============================] - 22s - loss: 0.5115 - acc: 0.7526 - val_loss: 0.5376 - val_acc: 0.7232\n",
      "Epoch 8/20\n",
      "13641/13641 [==============================] - 25s - loss: 0.4910 - acc: 0.7642 - val_loss: 0.5382 - val_acc: 0.7262\n",
      "Epoch 9/20\n",
      "13641/13641 [==============================] - 25s - loss: 0.4692 - acc: 0.7812 - val_loss: 0.5304 - val_acc: 0.7312\n",
      "Epoch 10/20\n",
      "13641/13641 [==============================] - 23s - loss: 0.4481 - acc: 0.7924 - val_loss: 0.5075 - val_acc: 0.7426\n",
      "Epoch 11/20\n",
      "13641/13641 [==============================] - 23s - loss: 0.4384 - acc: 0.8014 - val_loss: 0.5173 - val_acc: 0.7405\n",
      "Epoch 12/20\n",
      "13641/13641 [==============================] - 26s - loss: 0.4224 - acc: 0.8077 - val_loss: 0.5001 - val_acc: 0.7534\n",
      "Epoch 13/20\n",
      "13641/13641 [==============================] - 23s - loss: 0.4144 - acc: 0.8161 - val_loss: 0.5021 - val_acc: 0.7488\n",
      "Epoch 14/20\n",
      "13641/13641 [==============================] - 23s - loss: 0.3950 - acc: 0.8268 - val_loss: 0.5145 - val_acc: 0.7573\n",
      "Epoch 15/20\n",
      "13641/13641 [==============================] - 23s - loss: 0.3834 - acc: 0.8312 - val_loss: 0.4981 - val_acc: 0.7555\n",
      "Epoch 16/20\n",
      "13641/13641 [==============================] - 23s - loss: 0.3719 - acc: 0.8349 - val_loss: 0.5015 - val_acc: 0.7564\n",
      "Epoch 17/20\n",
      "13641/13641 [==============================] - 24s - loss: 0.3574 - acc: 0.8456 - val_loss: 0.5407 - val_acc: 0.7508\n",
      "Epoch 18/20\n",
      "13641/13641 [==============================] - 23s - loss: 0.3493 - acc: 0.8487 - val_loss: 0.5214 - val_acc: 0.7496\n",
      "Epoch 19/20\n",
      "13641/13641 [==============================] - 23s - loss: 0.3315 - acc: 0.8576 - val_loss: 0.5634 - val_acc: 0.7502\n",
      "Epoch 20/20\n",
      "13641/13641 [==============================] - 23s - loss: 0.3267 - acc: 0.8614 - val_loss: 0.5349 - val_acc: 0.7549\n"
     ]
    }
   ],
   "source": [
    "X = X.reshape(X.shape[0], 101, 1, 4)\n",
    "hist = model.fit(X, Y,epochs = 20,shuffle=True,batch_size=256,validation_split=0.20)"
   ]
  },
  {
   "cell_type": "code",
   "execution_count": 9,
   "metadata": {},
   "outputs": [
    {
     "data": {
      "text/plain": [
       "[<matplotlib.lines.Line2D at 0x7f7624658450>]"
      ]
     },
     "execution_count": 9,
     "metadata": {},
     "output_type": "execute_result"
    },
    {
     "data": {
      "image/png": "[encoded data removed]",
      "text/plain": [
       "<matplotlib.figure.Figure at 0x7f7627fe5190>"
      ]
     },
     "metadata": {},
     "output_type": "display_data"
    }
   ],
   "source": [
    "#first 10 epochs\n",
    "plt.plot(hist.history['acc'],'g')\n",
    "plt.plot(hist.history['val_acc'],'b')\n",
    "plt.plot(hist.history['loss'],'r')\n",
    "plt.plot(hist.history['val_loss'],'black')"
   ]
  }
 ],
 "metadata": {
  "kernelspec": {
   "display_name": "Python 2",
   "language": "python",
   "name": "python2"
  },
  "language_info": {
   "codemirror_mode": {
    "name": "ipython",
    "version": 2
   },
   "file_extension": ".py",
   "mimetype": "text/x-python",
   "name": "python",
   "nbconvert_exporter": "python",
   "pygments_lexer": "ipython2",
   "version": "2.7.12"
  }
 },
 "nbformat": 4,
 "nbformat_minor": 2
}
